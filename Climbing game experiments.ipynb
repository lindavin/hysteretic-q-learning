{
 "cells": [
  {
   "cell_type": "markdown",
   "id": "b80aa74d",
   "metadata": {},
   "source": [
    "# Simulate the Climbing Game"
   ]
  },
  {
   "cell_type": "code",
   "execution_count": 1,
   "id": "87b529a0",
   "metadata": {},
   "outputs": [],
   "source": [
    "from environment import ClimbingGame\n",
    "from agent import RandomAgent, QLearner\n",
    "from HystereticQLearner import HystereticQLearner\n",
    "from boltzmann import selection as boltzmann_policy\n",
    "from utils import simulate_task\n",
    "import matplotlib.pyplot as plt\n",
    "import numpy as np\n",
    "import random\n",
    "random.seed()"
   ]
  },
  {
   "cell_type": "markdown",
   "id": "1102745c",
   "metadata": {},
   "source": [
    "## Test Bed"
   ]
  },
  {
   "cell_type": "code",
   "execution_count": 2,
   "id": "585bd2e1",
   "metadata": {},
   "outputs": [],
   "source": [
    "# Simulate\n",
    "## Parameters\n",
    "\n",
    "exploration_rate = None\n",
    "def discount_rate(_): return 0\n",
    "def learning_rate(_): return 0.1\n",
    "def decrease_rate(_): return 0.01\n",
    "\n",
    "temperature_start = None  # Replace T = num with T = temperature_start maybe?\n",
    "timesteps = 10000\n",
    "num_simulations = 10\n"
   ]
  },
  {
   "cell_type": "markdown",
   "id": "0080f628",
   "metadata": {},
   "source": [
    "## Climbing Game Normal"
   ]
  },
  {
   "cell_type": "code",
   "execution_count": 3,
   "id": "fe2c588a",
   "metadata": {
    "scrolled": true
   },
   "outputs": [
    {
     "name": "stdout",
     "output_type": "stream",
     "text": [
      "#------------------------#\n",
      "| Simulation 0          |\n",
      "#------------------------#\n"
     ]
    },
    {
     "name": "stderr",
     "output_type": "stream",
     "text": [
      "/home/davin/Documents/GitHub/hysteretic-q-learning/boltzmann.py:13: RuntimeWarning: overflow encountered in double_scalars\n",
      "  if e**(x/T) == np.Infinity and x > highInf:\n"
     ]
    },
    {
     "name": "stdout",
     "output_type": "stream",
     "text": [
      "#------------------------#\n",
      "| Simulation 1          |\n",
      "#------------------------#\n",
      "#------------------------#\n",
      "| Simulation 2          |\n",
      "#------------------------#\n",
      "#------------------------#\n",
      "| Simulation 3          |\n",
      "#------------------------#\n",
      "#------------------------#\n",
      "| Simulation 4          |\n",
      "#------------------------#\n",
      "#------------------------#\n",
      "| Simulation 5          |\n",
      "#------------------------#\n",
      "#------------------------#\n",
      "| Simulation 6          |\n",
      "#------------------------#\n",
      "#------------------------#\n",
      "| Simulation 7          |\n",
      "#------------------------#\n",
      "#------------------------#\n",
      "| Simulation 8          |\n",
      "#------------------------#\n",
      "#------------------------#\n",
      "| Simulation 9          |\n",
      "#------------------------#\n"
     ]
    }
   ],
   "source": [
    "# Simulate\n",
    "## Parameters\n",
    "\n",
    "task = ClimbingGame()\n",
    "\n",
    "agent1 = HystereticQLearner(task, exploration_rate, learning_rate, discount_rate, decrease_rate, policy=boltzmann_policy)\n",
    "agent2 = HystereticQLearner(task, exploration_rate, learning_rate, discount_rate, decrease_rate, policy=boltzmann_policy)\n",
    "\n",
    "rewards = np.zeros((num_simulations, timesteps))\n",
    "\n",
    "for i in range(num_simulations):\n",
    "    print(\"#------------------------#\")\n",
    "    print(\"| Simulation {}          |\".format(i))\n",
    "    print(\"#------------------------#\")\n",
    "\n",
    "    T = 5000\n",
    "    t = 0\n",
    "    while(t < timesteps):\n",
    "        t, T = simulate_task([agent1, agent2], task, t, T, timesteps=timesteps)\n",
    "        rewards[i][t - 1] = agent1.accumulated_reward\n",
    "        agent1.accumulated_reward = 0\n",
    "#         print(\"timestep: {}; system temp: {}\".format(t, T))\n",
    "#         print(\"#--------------------------------------------#\")"
   ]
  },
  {
   "cell_type": "code",
   "execution_count": 4,
   "id": "1814752b",
   "metadata": {},
   "outputs": [
    {
     "data": {
      "text/plain": [
       "Text(0, 0.5, 'Average reward')"
      ]
     },
     "execution_count": 4,
     "metadata": {},
     "output_type": "execute_result"
    },
    {
     "data": {
      "image/png": "[encoded data removed]",
      "text/plain": [
       "<Figure size 1152x288 with 1 Axes>"
      ]
     },
     "metadata": {
      "needs_background": "light"
     },
     "output_type": "display_data"
    }
   ],
   "source": [
    "fig = plt.figure(figsize=(16,4))\n",
    "# plt.plot(range(num_games), np.median(rewards, axis=0))\n",
    "plt.plot(range(timesteps), np.average(rewards, axis=0))\n",
    "fig.suptitle('Hysteretic Q-learning: Climbing Game Normal', fontsize=20)\n",
    "plt.ylabel('Average reward')"
   ]
  },
  {
   "cell_type": "markdown",
   "id": "d09bc4f8",
   "metadata": {},
   "source": [
    "## Climbing Game Part Stochastic"
   ]
  },
  {
   "cell_type": "code",
   "execution_count": 5,
   "id": "99540ec7",
   "metadata": {
    "scrolled": true
   },
   "outputs": [
    {
     "name": "stdout",
     "output_type": "stream",
     "text": [
      "#------------------------#\n",
      "| Simulation 0          |\n",
      "#------------------------#\n"
     ]
    },
    {
     "name": "stderr",
     "output_type": "stream",
     "text": [
      "/home/davin/Documents/GitHub/hysteretic-q-learning/boltzmann.py:13: RuntimeWarning: overflow encountered in double_scalars\n",
      "  if e**(x/T) == np.Infinity and x > highInf:\n"
     ]
    },
    {
     "name": "stdout",
     "output_type": "stream",
     "text": [
      "#------------------------#\n",
      "| Simulation 1          |\n",
      "#------------------------#\n",
      "#------------------------#\n",
      "| Simulation 2          |\n",
      "#------------------------#\n",
      "#------------------------#\n",
      "| Simulation 3          |\n",
      "#------------------------#\n",
      "#------------------------#\n",
      "| Simulation 4          |\n",
      "#------------------------#\n",
      "#------------------------#\n",
      "| Simulation 5          |\n",
      "#------------------------#\n",
      "#------------------------#\n",
      "| Simulation 6          |\n",
      "#------------------------#\n",
      "#------------------------#\n",
      "| Simulation 7          |\n",
      "#------------------------#\n",
      "#------------------------#\n",
      "| Simulation 8          |\n",
      "#------------------------#\n",
      "#------------------------#\n",
      "| Simulation 9          |\n",
      "#------------------------#\n"
     ]
    }
   ],
   "source": [
    "# Simulate\n",
    "## Parameters\n",
    "\n",
    "task = ClimbingGame(part_stochastic=True)\n",
    "\n",
    "agent1 = HystereticQLearner(task, exploration_rate, learning_rate, discount_rate, decrease_rate, policy=boltzmann_policy)\n",
    "agent2 = HystereticQLearner(task, exploration_rate, learning_rate, discount_rate, decrease_rate, policy=boltzmann_policy)\n",
    "\n",
    "rewards = np.zeros((num_simulations, timesteps))\n",
    "\n",
    "for i in range(num_simulations):\n",
    "    print(\"#------------------------#\")\n",
    "    print(\"| Simulation {}          |\".format(i))\n",
    "    print(\"#------------------------#\")\n",
    "\n",
    "    T = 5000\n",
    "    t = 0\n",
    "    while(t < timesteps):\n",
    "        t, T = simulate_task([agent1, agent2], task, t, T, timesteps=timesteps)\n",
    "        rewards[i][t - 1] = agent1.accumulated_reward\n",
    "        agent1.accumulated_reward = 0\n",
    "#         print(\"timestep: {}; system temp: {}\".format(t, T))\n",
    "#         print(\"#--------------------------------------------#\")"
   ]
  },
  {
   "cell_type": "code",
   "execution_count": 6,
   "id": "f25cf2ca",
   "metadata": {},
   "outputs": [
    {
     "data": {
      "text/plain": [
       "Text(0, 0.5, 'Average reward')"
      ]
     },
     "execution_count": 6,
     "metadata": {},
     "output_type": "execute_result"
    },
    {
     "data": {
      "image/png": "[encoded data removed]",
      "text/plain": [
       "<Figure size 1152x288 with 1 Axes>"
      ]
     },
     "metadata": {
      "needs_background": "light"
     },
     "output_type": "display_data"
    }
   ],
   "source": [
    "fig = plt.figure(figsize=(16,4))\n",
    "# plt.plot(range(num_games), np.median(rewards, axis=0))\n",
    "plt.plot(range(timesteps), np.average(rewards, axis=0))\n",
    "fig.suptitle('Hysteretic Q-learning: Climbing Game Part Stochastic', fontsize=20)\n",
    "plt.ylabel('Average reward')\n"
   ]
  },
  {
   "cell_type": "markdown",
   "id": "1d532609",
   "metadata": {},
   "source": [
    "## Climbing Game Full Stochastic"
   ]
  },
  {
   "cell_type": "code",
   "execution_count": 7,
   "id": "22bb64bc",
   "metadata": {
    "scrolled": true
   },
   "outputs": [
    {
     "name": "stdout",
     "output_type": "stream",
     "text": [
      "#------------------------#\n",
      "| Simulation 0          |\n",
      "#------------------------#\n"
     ]
    },
    {
     "name": "stderr",
     "output_type": "stream",
     "text": [
      "/home/davin/Documents/GitHub/hysteretic-q-learning/boltzmann.py:13: RuntimeWarning: overflow encountered in double_scalars\n",
      "  if e**(x/T) == np.Infinity and x > highInf:\n"
     ]
    },
    {
     "name": "stdout",
     "output_type": "stream",
     "text": [
      "#------------------------#\n",
      "| Simulation 1          |\n",
      "#------------------------#\n",
      "#------------------------#\n",
      "| Simulation 2          |\n",
      "#------------------------#\n",
      "#------------------------#\n",
      "| Simulation 3          |\n",
      "#------------------------#\n",
      "#------------------------#\n",
      "| Simulation 4          |\n",
      "#------------------------#\n",
      "#------------------------#\n",
      "| Simulation 5          |\n",
      "#------------------------#\n",
      "#------------------------#\n",
      "| Simulation 6          |\n",
      "#------------------------#\n",
      "#------------------------#\n",
      "| Simulation 7          |\n",
      "#------------------------#\n",
      "#------------------------#\n",
      "| Simulation 8          |\n",
      "#------------------------#\n",
      "#------------------------#\n",
      "| Simulation 9          |\n",
      "#------------------------#\n"
     ]
    }
   ],
   "source": [
    "# Simulate\n",
    "## Parameters\n",
    "\n",
    "task = ClimbingGame(full_stochastic=True)\n",
    "\n",
    "agent1 = HystereticQLearner(task, exploration_rate, learning_rate, discount_rate, decrease_rate, policy=boltzmann_policy)\n",
    "agent2 = HystereticQLearner(task, exploration_rate, learning_rate, discount_rate, decrease_rate, policy=boltzmann_policy)\n",
    "\n",
    "rewards = np.zeros((num_simulations, timesteps))\n",
    "\n",
    "for i in range(num_simulations):\n",
    "    print(\"#------------------------#\")\n",
    "    print(\"| Simulation {}          |\".format(i))\n",
    "    print(\"#------------------------#\")\n",
    "\n",
    "    T = 5000\n",
    "    t = 0\n",
    "    while(t < timesteps):\n",
    "        t, T = simulate_task([agent1, agent2], task, t, T, timesteps=timesteps)\n",
    "        rewards[i][t - 1] = agent1.accumulated_reward\n",
    "        agent1.accumulated_reward = 0\n",
    "#         print(\"timestep: {}; system temp: {}\".format(t, T))\n",
    "#         print(\"#--------------------------------------------#\")"
   ]
  },
  {
   "cell_type": "code",
   "execution_count": 8,
   "id": "56947cb8",
   "metadata": {},
   "outputs": [
    {
     "data": {
      "text/plain": [
       "Text(0, 0.5, 'Average reward')"
      ]
     },
     "execution_count": 8,
     "metadata": {},
     "output_type": "execute_result"
    },
    {
     "data": {
      "image/png": "[encoded data removed]",
      "text/plain": [
       "<Figure size 1152x288 with 1 Axes>"
      ]
     },
     "metadata": {
      "needs_background": "light"
     },
     "output_type": "display_data"
    }
   ],
   "source": [
    "fig = plt.figure(figsize=(16,4))\n",
    "# plt.plot(range(num_games), np.median(rewards, axis=0))\n",
    "plt.plot(range(timesteps), np.average(rewards, axis=0))\n",
    "fig.suptitle('Hysteretic Q-learning: Climbing Game Full Stochastic', fontsize=20)\n",
    "plt.ylabel('Average reward')\n"
   ]
  },
  {
   "cell_type": "markdown",
   "id": "16f704e4",
   "metadata": {},
   "source": [
    "## Divider"
   ]
  },
  {
   "cell_type": "code",
   "execution_count": 9,
   "id": "349cb0d4",
   "metadata": {},
   "outputs": [
    {
     "name": "stdout",
     "output_type": "stream",
     "text": [
      "#------------------------#\n",
      "| Simulation 0          |\n",
      "#------------------------#\n"
     ]
    },
    {
     "ename": "KeyboardInterrupt",
     "evalue": "",
     "output_type": "error",
     "traceback": [
      "\u001b[0;31m---------------------------------------------------------------------------\u001b[0m",
      "\u001b[0;31mKeyboardInterrupt\u001b[0m                         Traceback (most recent call last)",
      "\u001b[0;32m/tmp/ipykernel_23055/71434274.py\u001b[0m in \u001b[0;36m<module>\u001b[0;34m\u001b[0m\n\u001b[1;32m     24\u001b[0m     \u001b[0mt\u001b[0m \u001b[0;34m=\u001b[0m \u001b[0;36m0\u001b[0m\u001b[0;34m\u001b[0m\u001b[0;34m\u001b[0m\u001b[0m\n\u001b[1;32m     25\u001b[0m     \u001b[0;31m# while(t < 7500):\u001b[0m\u001b[0;34m\u001b[0m\u001b[0;34m\u001b[0m\u001b[0m\n\u001b[0;32m---> 26\u001b[0;31m     \u001b[0;32mwhile\u001b[0m\u001b[0;34m(\u001b[0m\u001b[0mt\u001b[0m \u001b[0;34m<\u001b[0m \u001b[0mnum_games\u001b[0m\u001b[0;34m)\u001b[0m\u001b[0;34m:\u001b[0m\u001b[0;34m\u001b[0m\u001b[0;34m\u001b[0m\u001b[0m\n\u001b[0m\u001b[1;32m     27\u001b[0m         \u001b[0mt\u001b[0m\u001b[0;34m,\u001b[0m \u001b[0mT\u001b[0m \u001b[0;34m=\u001b[0m \u001b[0msimulate_task\u001b[0m\u001b[0;34m(\u001b[0m\u001b[0mrandom_agents\u001b[0m\u001b[0;34m,\u001b[0m \u001b[0mtask\u001b[0m\u001b[0;34m,\u001b[0m \u001b[0mt\u001b[0m\u001b[0;34m)\u001b[0m\u001b[0;34m\u001b[0m\u001b[0;34m\u001b[0m\u001b[0m\n\u001b[1;32m     28\u001b[0m         \u001b[0mrandom_rewards\u001b[0m\u001b[0;34m[\u001b[0m\u001b[0mi\u001b[0m\u001b[0;34m]\u001b[0m\u001b[0;34m[\u001b[0m\u001b[0mt\u001b[0m \u001b[0;34m-\u001b[0m \u001b[0;36m1\u001b[0m\u001b[0;34m]\u001b[0m \u001b[0;34m=\u001b[0m \u001b[0mrandom_agents\u001b[0m\u001b[0;34m[\u001b[0m\u001b[0;36m0\u001b[0m\u001b[0;34m]\u001b[0m\u001b[0;34m.\u001b[0m\u001b[0maccumulated_reward\u001b[0m\u001b[0;34m\u001b[0m\u001b[0;34m\u001b[0m\u001b[0m\n",
      "\u001b[0;31mKeyboardInterrupt\u001b[0m: "
     ]
    }
   ],
   "source": [
    "import numpy as np\n",
    "# Simulate\n",
    "## Parameters\n",
    "\n",
    "exploration_rate = None\n",
    "discount_rate = lambda _: 0\n",
    "learning_rate = lambda _: 0.1\n",
    "decrease_rate = lambda _: 0.01\n",
    "\n",
    "task = ClimbingGame()\n",
    "\n",
    "random_agents = (RandomAgent(task), RandomAgent(task))\n",
    "\n",
    "num_games = 1263\n",
    "num_simulations = 500\n",
    "random_rewards = np.zeros((num_simulations, num_games))\n",
    "\n",
    "for i in range(num_simulations):\n",
    "    print(\"#------------------------#\")\n",
    "    print(\"| Simulation {}          |\".format(i))\n",
    "    print(\"#------------------------#\")\n",
    "\n",
    "    T = 5000\n",
    "    t = 0\n",
    "    # while(t < 7500):\n",
    "    while(t < num_games):\n",
    "        t, T = simulate_task(random_agents, task, t)\n",
    "        random_rewards[i][t - 1] = random_agents[0].accumulated_reward\n",
    "        random_agents[0].accumulated_reward = 0\n",
    "#         print(\"timestep: {}; system temp: {}\".format(t, T))\n",
    "#         print(\"#--------------------------------------------#\")"
   ]
  },
  {
   "cell_type": "code",
   "execution_count": null,
   "id": "18d3f245",
   "metadata": {},
   "outputs": [],
   "source": [
    "fig = plt.figure(figsize=(16,4))\n",
    "# plt.plot(range(num_games), np.median(random_rewards, axis=0))\n",
    "plt.plot(range(num_games), np.average(random_rewards, axis=0))\n",
    "fig.suptitle('Random agent', fontsize=20)\n",
    "plt.ylabel('Average reward')"
   ]
  },
  {
   "cell_type": "code",
   "execution_count": null,
   "id": "1454a095",
   "metadata": {
    "scrolled": true
   },
   "outputs": [],
   "source": [
    "import numpy as np\n",
    "# Simulate\n",
    "## Parameters\n",
    "\n",
    "exploration_rate = None\n",
    "discount_rate = lambda _: 0\n",
    "learning_rate = lambda _: 0.1\n",
    "decrease_rate = lambda _: 0.01\n",
    "\n",
    "task = ClimbingGame()\n",
    "\n",
    "q_learners = (QLearner(task, exploration_rate, learning_rate, discount_rate, boltzmann_policy), QLearner(task, exploration_rate, learning_rate, discount_rate, boltzmann_policy))\n",
    "\n",
    "num_games = 1263\n",
    "num_simulations = 1\n",
    "q_learn_rewards = np.zeros((num_simulations, num_games))\n",
    "\n",
    "for i in range(num_simulations):\n",
    "    print(\"#------------------------#\")\n",
    "    print(\"| Simulation {}          |\".format(i))\n",
    "    print(\"#------------------------#\")\n",
    "\n",
    "    T = 5000\n",
    "    t = 0\n",
    "    # while(t < 7500):\n",
    "    while(t < num_games):\n",
    "        t, T = simulate_task(q_learners, task, t, T)\n",
    "        q_learn_rewards[i][t - 1] = q_learners[0].accumulated_reward\n",
    "        q_learners[0].accumulated_reward = 0\n",
    "#         print(\"timestep: {}; system temp: {}\".format(t, T))\n",
    "#         print(\"#--------------------------------------------#\")"
   ]
  },
  {
   "cell_type": "code",
   "execution_count": null,
   "id": "3f584fda",
   "metadata": {},
   "outputs": [],
   "source": [
    "fig = plt.figure(figsize=(16,4))\n",
    "# plt.plot(range(num_games), np.median(q_learn_rewards, axis=0))\n",
    "plt.plot(range(num_games), np.average(q_learn_rewards, axis=0))\n",
    "fig.suptitle('Decentralized Q-Learning', fontsize=20)\n",
    "plt.ylabel('Average reward')"
   ]
  },
  {
   "cell_type": "code",
   "execution_count": null,
   "id": "9ed9ec78",
   "metadata": {
    "scrolled": true
   },
   "outputs": [],
   "source": [
    "# Simulate\n",
    "## Parameters\n",
    "\n",
    "task = ClimbingGame()\n",
    "\n",
    "agent1 = HystereticQLearner(task, exploration_rate, learning_rate, discount_rate, decrease_rate, policy=boltzmann_policy)\n",
    "agent2 = HystereticQLearner(task, exploration_rate, learning_rate, discount_rate, decrease_rate, policy=boltzmann_policy)\n",
    "\n",
    "rewards = np.zeros((num_simulations, timesteps))\n",
    "\n",
    "for i in range(num_simulations):\n",
    "    print(\"#------------------------#\")\n",
    "    print(\"| Simulation {}          |\".format(i))\n",
    "    print(\"#------------------------#\")\n",
    "\n",
    "    T = 5000\n",
    "    t = 0\n",
    "    # while(t < 7500):\n",
    "    while(t < timesteps):\n",
    "        t, T = simulate_task([agent1, agent2], task, t, T, timesteps=timesteps)\n",
    "        rewards[i][t - 1] = agent1.accumulated_reward\n",
    "        agent1.accumulated_reward = 0\n",
    "#         print(\"timestep: {}; system temp: {}\".format(t, T))\n",
    "#         print(\"#--------------------------------------------#\")"
   ]
  },
  {
   "cell_type": "code",
   "execution_count": null,
   "id": "0cf98c09",
   "metadata": {},
   "outputs": [],
   "source": [
    "fig = plt.figure(figsize=(16,4))\n",
    "# plt.plot(range(num_games), np.median(rewards, axis=0))\n",
    "plt.plot(range(timesteps), np.average(rewards, axis=0))\n",
    "fig.suptitle('Hysteretic Q-learning', fontsize=20)\n",
    "plt.ylabel('Average reward')"
   ]
  },
  {
   "cell_type": "code",
   "execution_count": null,
   "id": "7f2760c8",
   "metadata": {},
   "outputs": [],
   "source": [
    "import numpy as np\n",
    "# Simulate\n",
    "## Parameters\n",
    "\n",
    "exploration_rate = None\n",
    "discount_rate = lambda _: 0\n",
    "learning_rate = lambda _: 0.1\n",
    "decrease_rate = lambda _: 0.01\n",
    "\n",
    "task = ClimbingGame()\n",
    "\n",
    "random_agents = (RandomAgent(task), RandomAgent(task))\n",
    "\n",
    "num_games = 1263\n",
    "num_simulations = 500\n",
    "random_rewards = np.zeros((num_simulations, num_games))\n",
    "\n",
    "for i in range(num_simulations):\n",
    "    print(\"#------------------------#\")\n",
    "    print(\"| Simulation {}          |\".format(i))\n",
    "    print(\"#------------------------#\")\n",
    "\n",
    "    T = 5000\n",
    "    t = 0\n",
    "    # while(t < 7500):\n",
    "    while(t < num_games):\n",
    "        t, T = simulate_task(random_agents, task, t)\n",
    "        random_rewards[i][t - 1] = random_agents[0].accumulated_reward\n",
    "        random_agents[0].accumulated_reward = 0\n",
    "#         print(\"timestep: {}; system temp: {}\".format(t, T))\n",
    "#         print(\"#--------------------------------------------#\")"
   ]
  },
  {
   "cell_type": "code",
   "execution_count": null,
   "id": "bf4bdcd0",
   "metadata": {},
   "outputs": [],
   "source": [
    "fig = plt.figure(figsize=(16,4))\n",
    "# plt.plot(range(num_games), np.median(random_rewards, axis=0))\n",
    "plt.plot(range(num_games), np.average(random_rewards, axis=0))\n",
    "fig.suptitle('Random agent', fontsize=20)\n",
    "plt.ylabel('Average reward')"
   ]
  },
  {
   "cell_type": "code",
   "execution_count": null,
   "id": "a265dcd9",
   "metadata": {
    "scrolled": true
   },
   "outputs": [],
   "source": [
    "import numpy as np\n",
    "# Simulate\n",
    "## Parameters\n",
    "\n",
    "exploration_rate = None\n",
    "discount_rate = lambda _: 0\n",
    "learning_rate = lambda _: 0.1\n",
    "decrease_rate = lambda _: 0.01\n",
    "\n",
    "task = ClimbingGame()\n",
    "\n",
    "q_learners = (QLearner(task, exploration_rate, learning_rate, discount_rate, boltzmann_policy), QLearner(task, exploration_rate, learning_rate, discount_rate, boltzmann_policy))\n",
    "\n",
    "num_games = 1263\n",
    "num_simulations = 1\n",
    "q_learn_rewards = np.zeros((num_simulations, num_games))\n",
    "\n",
    "for i in range(num_simulations):\n",
    "    print(\"#------------------------#\")\n",
    "    print(\"| Simulation {}          |\".format(i))\n",
    "    print(\"#------------------------#\")\n",
    "\n",
    "    T = 5000\n",
    "    t = 0\n",
    "    # while(t < 7500):\n",
    "    while(t < num_games):\n",
    "        t, T = simulate_task(q_learners, task, t, T)\n",
    "        q_learn_rewards[i][t - 1] = q_learners[0].accumulated_reward\n",
    "        q_learners[0].accumulated_reward = 0\n",
    "#         print(\"timestep: {}; system temp: {}\".format(t, T))\n",
    "#         print(\"#--------------------------------------------#\")"
   ]
  },
  {
   "cell_type": "code",
   "execution_count": null,
   "id": "6678c102",
   "metadata": {},
   "outputs": [],
   "source": [
    "fig = plt.figure(figsize=(16,4))\n",
    "# plt.plot(range(num_games), np.median(q_learn_rewards, axis=0))\n",
    "plt.plot(range(num_games), np.average(q_learn_rewards, axis=0))\n",
    "fig.suptitle('Decentralized Q-Learning', fontsize=20)\n",
    "plt.ylabel('Average reward')"
   ]
  },
  {
   "cell_type": "markdown",
   "id": "e14d5bd0",
   "metadata": {},
   "source": [
    "## Test with a \"dumb\" agent"
   ]
  },
  {
   "cell_type": "code",
   "execution_count": null,
   "id": "76f1f3f9",
   "metadata": {
    "scrolled": true
   },
   "outputs": [],
   "source": [
    "from agent import FixedAgent\n",
    "\n",
    "task = ClimbingGame()\n",
    "\n",
    "\n",
    "import numpy as np\n",
    "# Simulate\n",
    "## Parameters\n",
    "\n",
    "exploration_rate = None\n",
    "discount_rate = lambda _: 0\n",
    "learning_rate = lambda _: 0.1\n",
    "decrease_rate = lambda _: 0.01\n",
    "\n",
    "task = ClimbingGame()\n",
    "\n",
    "agents = (HystereticQLearner(task, exploration_rate, learning_rate, discount_rate, decrease_rate, policy=boltzmann_policy), \n",
    "          FixedAgent(task, 'A'))\n",
    "\n",
    "num_games = 1263\n",
    "num_simulations = 500\n",
    "base_line_rewards = np.zeros((num_simulations, num_games))\n",
    "\n",
    "\n",
    "\n",
    "for i in range(num_simulations):\n",
    "    print(\"#------------------------#\")\n",
    "    print(\"| Simulation {}          |\".format(i))\n",
    "    print(\"#------------------------#\")\n",
    "    T = 5000\n",
    "    t = 0\n",
    "    while(t < num_games):\n",
    "            t, T = simulate_task(agents, task, t, T)\n",
    "            base_line_rewards[i][t - 1] = agents[0].accumulated_reward\n",
    "            agents[0].accumulated_reward = 0"
   ]
  },
  {
   "cell_type": "code",
   "execution_count": null,
   "id": "284de32c",
   "metadata": {},
   "outputs": [],
   "source": [
    "fig = plt.figure(figsize=(16,4))\n",
    "plt.plot(range(num_games), np.average(base_line_rewards, axis=0))\n",
    "fig.suptitle('Hysteretic with Dummy agent', fontsize=20)\n",
    "plt.ylabel('Average reward')"
   ]
  },
  {
   "cell_type": "code",
   "execution_count": null,
   "id": "242908b2",
   "metadata": {
    "scrolled": true
   },
   "outputs": [],
   "source": [
    "import numpy as np\n",
    "# Simulate\n",
    "## Parameters\n",
    "\n",
    "exploration_rate = None\n",
    "discount_rate = lambda _: 0\n",
    "learning_rate = lambda _: 0.1\n",
    "decrease_rate = lambda _: 0.01\n",
    "\n",
    "task = ClimbingGame()\n",
    "\n",
    "learners = (QLearner(task, exploration_rate, learning_rate, discount_rate, boltzmann_policy), \n",
    "              FixedAgent(task, 'A'))\n",
    "\n",
    "num_games = 1263\n",
    "num_simulations = 500\n",
    "baseline_q_learn_rewards = np.zeros((num_simulations, num_games))\n",
    "\n",
    "for i in range(num_simulations):\n",
    "    print(\"#------------------------#\")\n",
    "    print(\"| Simulation {}          |\".format(i))\n",
    "    print(\"#------------------------#\")\n",
    "\n",
    "    T = 5000\n",
    "    t = 0\n",
    "    # while(t < 7500):\n",
    "    while(t < num_games):\n",
    "        t, T = simulate_task(learners, task, t, T)\n",
    "        baseline_q_learn_rewards[i][t - 1] = learners[0].accumulated_reward\n",
    "        learners[0].accumulated_reward = 0\n",
    "#         print(\"timestep: {}; system temp: {}\".format(t, T))\n",
    "#         print(\"#--------------------------------------------#\")"
   ]
  },
  {
   "cell_type": "code",
   "execution_count": null,
   "id": "f6b39d64",
   "metadata": {},
   "outputs": [],
   "source": [
    "fig = plt.figure(figsize=(16,4))\n",
    "plt.plot(range(num_games), np.average(baseline_q_learn_rewards, axis=0))\n",
    "fig.suptitle('Q-learning with Dummy agent', fontsize=20)\n",
    "plt.ylabel('Average reward')"
   ]
  }
 ],
 "metadata": {
  "kernelspec": {
   "display_name": "Python 3 (ipykernel)",
   "language": "python",
   "name": "python3"
  },
  "language_info": {
   "codemirror_mode": {
    "name": "ipython",
    "version": 3
   },
   "file_extension": ".py",
   "mimetype": "text/x-python",
   "name": "python",
   "nbconvert_exporter": "python",
   "pygments_lexer": "ipython3",
   "version": "3.10.2"
  }
 },
 "nbformat": 4,
 "nbformat_minor": 5
}
