{
 "cells": [
  {
   "cell_type": "markdown",
   "id": "b80aa74d",
   "metadata": {},
   "source": [
    "# Simulate the Boutilier Coordination Game"
   ]
  },
  {
   "cell_type": "code",
   "execution_count": 1,
   "id": "87b529a0",
   "metadata": {},
   "outputs": [],
   "source": [
    "from environment import Boutilier\n",
    "from agent import RandomAgent, QLearner\n",
    "from HystereticQLearner import HystereticQLearner\n",
    "from policy import epsilon_greedy\n",
    "from utils import simulate_task\n",
    "import matplotlib.pyplot as plt\n",
    "import numpy as np\n",
    "import random\n",
    "random.seed()"
   ]
  },
  {
   "cell_type": "markdown",
   "id": "da0e4557",
   "metadata": {},
   "source": [
    "# Deterministic"
   ]
  },
  {
   "cell_type": "markdown",
   "id": "c3a14642",
   "metadata": {},
   "source": [
    "## Test Bed"
   ]
  },
  {
   "cell_type": "code",
   "execution_count": 2,
   "id": "585bd2e1",
   "metadata": {},
   "outputs": [],
   "source": [
    "# Simulate\n",
    "## Parameters\n",
    "\n",
    "exploration_rate = None\n",
    "def discount_rate(_): return 0.9\n",
    "def learning_rate(_): return 0.1\n",
    "def decrease_rate(_): return 0.01\n",
    "policy = epsilon_greedy(0.05)\n",
    "temperature_start = None  # Replace T = num with T = temperature_start maybe?\n",
    "timesteps = 10000\n",
    "num_simulations = 200\n",
    "\n",
    "# Check greedy joint policy"
   ]
  },
  {
   "cell_type": "markdown",
   "id": "519f6359",
   "metadata": {},
   "source": [
    "## k = 0"
   ]
  },
  {
   "cell_type": "code",
   "execution_count": 3,
   "id": "7f5a2b32",
   "metadata": {
    "scrolled": true
   },
   "outputs": [
    {
     "name": "stdout",
     "output_type": "stream",
     "text": [
      "Percentage of simulations converged: 100.0%\n"
     ]
    }
   ],
   "source": [
    "num_converge = 0\n",
    "k = 0\n",
    "for i in range(num_simulations):\n",
    "    task = Boutilier(k)\n",
    "\n",
    "    agents = [HystereticQLearner(task, exploration_rate, learning_rate, discount_rate, decrease_rate, \n",
    "                             policy=policy),\n",
    "          HystereticQLearner(task, exploration_rate, learning_rate, discount_rate, decrease_rate, \n",
    "                             policy=policy)]\n",
    "#     print(\"#------------------------#\")\n",
    "#     print(\"| Simulation {}          |\".format(i))\n",
    "#     print(\"#------------------------#\")\n",
    "\n",
    "    t = 0\n",
    "    while(t < timesteps):\n",
    "        task = Boutilier(0)\n",
    "        t, _ = simulate_task(agents, task, t, None, timesteps=timesteps)\n",
    "        \n",
    "    def find_greedy_action_for_state(agent, state):\n",
    "        return max(agent.q_values[state], key=agent.q_values[state].get)\n",
    "    \n",
    "    # Check if joint greedy action leads to optimal state\n",
    "    task = Boutilier(0)\n",
    "    state = 1\n",
    "    joint_action = [find_greedy_action_for_state(agent, state) for agent in agents]\n",
    "    state = task.get_new_state(joint_action, state)\n",
    "    joint_action = [find_greedy_action_for_state(agent, state) for agent in agents]\n",
    "    state = task.get_new_state(joint_action, state)\n",
    "\n",
    "    if(state == 4):\n",
    "        num_converge += 1\n",
    "\n",
    "print(\"Percentage of simulations converged: {}%\".format(num_converge / num_simulations * 100))"
   ]
  },
  {
   "cell_type": "markdown",
   "id": "b70e3602",
   "metadata": {},
   "source": [
    "## K = -100"
   ]
  },
  {
   "cell_type": "code",
   "execution_count": 4,
   "id": "b34f2c96",
   "metadata": {},
   "outputs": [
    {
     "name": "stdout",
     "output_type": "stream",
     "text": [
      "Percentage of simulations converged: 100.0%\n"
     ]
    }
   ],
   "source": [
    "num_converge = 0\n",
    "k = -100\n",
    "for i in range(num_simulations):\n",
    "    task = Boutilier(k)\n",
    "\n",
    "    agents = [HystereticQLearner(task, exploration_rate, learning_rate, discount_rate, decrease_rate, \n",
    "                             policy=policy),\n",
    "          HystereticQLearner(task, exploration_rate, learning_rate, discount_rate, decrease_rate, \n",
    "                             policy=policy)]\n",
    "#     print(\"#------------------------#\")\n",
    "#     print(\"| Simulation {}          |\".format(i))\n",
    "#     print(\"#------------------------#\")\n",
    "\n",
    "    t = 0\n",
    "    while(t < timesteps):\n",
    "        task = Boutilier(0)\n",
    "        t, _ = simulate_task(agents, task, t, None, timesteps=timesteps)\n",
    "        \n",
    "    def find_greedy_action_for_state(agent, state):\n",
    "        return max(agent.q_values[state], key=agent.q_values[state].get)\n",
    "    \n",
    "    # Check if joint greedy action leads to optimal state\n",
    "    task = Boutilier(0)\n",
    "    state = 1\n",
    "    joint_action = [find_greedy_action_for_state(agent, state) for agent in agents]\n",
    "    state = task.get_new_state(joint_action, state)\n",
    "    joint_action = [find_greedy_action_for_state(agent, state) for agent in agents]\n",
    "    state = task.get_new_state(joint_action, state)\n",
    "\n",
    "    if(state == 4):\n",
    "        num_converge += 1\n",
    "\n",
    "print(\"Percentage of simulations converged: {}%\".format(num_converge / num_simulations * 100))"
   ]
  },
  {
   "cell_type": "markdown",
   "id": "cc7d41ee",
   "metadata": {},
   "source": [
    "# Stochastic"
   ]
  },
  {
   "cell_type": "code",
   "execution_count": 5,
   "id": "a712a840",
   "metadata": {},
   "outputs": [],
   "source": [
    "# Simulate\n",
    "## Parameters\n",
    "\n",
    "exploration_rate = None\n",
    "def discount_rate(_): return 0.9\n",
    "def learning_rate(_): return 0.1\n",
    "def decrease_rate(_): return 0.05\n",
    "policy = epsilon_greedy(0.05)\n",
    "temperature_start = None  # Replace T = num with T = temperature_start maybe?\n",
    "timesteps = 10000\n",
    "num_simulations = 200\n",
    "\n",
    "# Check greedy joint policy"
   ]
  },
  {
   "cell_type": "markdown",
   "id": "201ad1be",
   "metadata": {},
   "source": [
    "## k = 0"
   ]
  },
  {
   "cell_type": "code",
   "execution_count": null,
   "id": "b0347c67",
   "metadata": {},
   "outputs": [],
   "source": [
    "num_converge = 0\n",
    "num_six = 0\n",
    "k = 0\n",
    "for i in range(num_simulations):\n",
    "    task = Boutilier(k, part_stochastic=True)\n",
    "\n",
    "    agents = [HystereticQLearner(task, exploration_rate, learning_rate, discount_rate, decrease_rate, \n",
    "                             policy=policy),\n",
    "          HystereticQLearner(task, exploration_rate, learning_rate, discount_rate, decrease_rate, \n",
    "                             policy=policy)]\n",
    "#     print(\"#------------------------#\")\n",
    "#     print(\"| Simulation {}          |\".format(i))\n",
    "#     print(\"#------------------------#\")\n",
    "\n",
    "    t = 0\n",
    "    while(t < timesteps):\n",
    "        task = Boutilier(k, part_stochastic=True)\n",
    "        t, _ = simulate_task(agents, task, t, None, timesteps=timesteps)\n",
    "        \n",
    "    def find_greedy_action_for_state(agent, state):\n",
    "        return max(agent.q_values[state], key=agent.q_values[state].get)\n",
    "    \n",
    "    # Check if joint greedy action leads to optimal state\n",
    "    task = Boutilier(k, part_stochastic=True)\n",
    "    state = 1\n",
    "    joint_action = [find_greedy_action_for_state(agent, state) for agent in agents]\n",
    "    state = task.get_new_state(joint_action, state)\n",
    "    joint_action = [find_greedy_action_for_state(agent, state) for agent in agents]\n",
    "    state = task.get_new_state(joint_action, state)\n",
    "\n",
    "    if(state == 4):\n",
    "        num_converge += 1\n",
    "        \n",
    "    elif(state == 6):\n",
    "        num_six += 1\n",
    "\n",
    "print(\"Percentage of simulations converged: {}%\".format(num_converge / num_simulations * 100))\n",
    "print(\"Percentage of simulations converged to sub-optimal nash equilibrium: {}%\".format(num_six / num_simulations * 100))"
   ]
  },
  {
   "cell_type": "markdown",
   "id": "a66f1c3f",
   "metadata": {},
   "source": [
    "## k = -100"
   ]
  },
  {
   "cell_type": "code",
   "execution_count": null,
   "id": "4e71fdd2",
   "metadata": {},
   "outputs": [],
   "source": [
    "num_converge = 0\n",
    "num_six = 0\n",
    "k = -100\n",
    "for i in range(num_simulations):\n",
    "    task = Boutilier(k, part_stochastic=True)\n",
    "\n",
    "    agents = [HystereticQLearner(task, exploration_rate, learning_rate, discount_rate, decrease_rate, \n",
    "                             policy=policy),\n",
    "          HystereticQLearner(task, exploration_rate, learning_rate, discount_rate, decrease_rate, \n",
    "                             policy=policy)]\n",
    "#     print(\"#------------------------#\")\n",
    "#     print(\"| Simulation {}          |\".format(i))\n",
    "#     print(\"#------------------------#\")\n",
    "\n",
    "    t = 0\n",
    "    while(t < timesteps):\n",
    "        task = Boutilier(k, part_stochastic=True)\n",
    "        t, _ = simulate_task(agents, task, t, None, timesteps=timesteps)\n",
    "        \n",
    "    def find_greedy_action_for_state(agent, state):\n",
    "        return max(agent.q_values[state], key=agent.q_values[state].get)\n",
    "    \n",
    "    # Check if joint greedy action leads to optimal state\n",
    "    task = Boutilier(k, part_stochastic=True)\n",
    "    state = 1\n",
    "    joint_action = [find_greedy_action_for_state(agent, state) for agent in agents]\n",
    "    state = task.get_new_state(joint_action, state)\n",
    "    joint_action = [find_greedy_action_for_state(agent, state) for agent in agents]\n",
    "    state = task.get_new_state(joint_action, state)\n",
    "\n",
    "    if(state == 4):\n",
    "        num_converge += 1\n",
    "    elif(state == 6):\n",
    "        num_six += 1\n",
    "print(\"Percentage of simulations converged to optimal: {}%\".format(num_converge / num_simulations * 100))\n",
    "print(\"Percentage of simulations converged to sub-optimal nash equilibrium: {}%\".format(num_six / num_simulations * 100))"
   ]
  },
  {
   "cell_type": "markdown",
   "id": "d9dda999",
   "metadata": {},
   "source": [
    "### Distributed Q-learning and stochastic"
   ]
  },
  {
   "cell_type": "code",
   "execution_count": null,
   "id": "2c566e44",
   "metadata": {},
   "outputs": [],
   "source": [
    "from agent import QLearner\n",
    "\n",
    "# Simulate\n",
    "## Parameters\n",
    "\n",
    "exploration_rate = None\n",
    "def discount_rate(_): return 0.9\n",
    "def learning_rate(_): return 0.1\n",
    "\n",
    "policy = epsilon_greedy(0.05)\n",
    "temperature_start = None  # Replace T = num with T = temperature_start maybe?\n",
    "timesteps = 10000\n",
    "num_simulations = 200\n",
    "\n",
    "# Check greedy joint policy\n",
    "\n",
    "num_converge = 0\n",
    "num_six = 0\n",
    "k = -100\n",
    "for i in range(num_simulations):\n",
    "    task = Boutilier(k, part_stochastic=True)\n",
    "\n",
    "    agents = [QLearner(task, exploration_rate, learning_rate, discount_rate, \n",
    "                             policy=policy),\n",
    "          QLearner(task, exploration_rate, learning_rate, discount_rate, \n",
    "                             policy=policy)]\n",
    "#     print(\"#------------------------#\")\n",
    "#     print(\"| Simulation {}          |\".format(i))\n",
    "#     print(\"#------------------------#\")\n",
    "\n",
    "    t = 0\n",
    "    while(t < timesteps):\n",
    "        task = Boutilier(k, part_stochastic=True)\n",
    "        t, _ = simulate_task(agents, task, t, None, timesteps=timesteps)\n",
    "        \n",
    "    def find_greedy_action_for_state(agent, state):\n",
    "        return max(agent.q_values[state], key=agent.q_values[state].get)\n",
    "    \n",
    "    # Check if joint greedy action leads to optimal state\n",
    "    task = Boutilier(k, part_stochastic=True)\n",
    "    state = 1\n",
    "    joint_action = [find_greedy_action_for_state(agent, state) for agent in agents]\n",
    "    state = task.get_new_state(joint_action, state)\n",
    "    joint_action = [find_greedy_action_for_state(agent, state) for agent in agents]\n",
    "    state = task.get_new_state(joint_action, state)\n",
    "\n",
    "    if(state == 4):\n",
    "        num_converge += 1\n",
    "    elif(state == 6):\n",
    "        num_six += 1\n",
    "    \n",
    "print(\"Percentage of simulations converged to optimal: {}%\".format(num_converge / num_simulations * 100))\n",
    "print(\"Percentage of simulations converged to sub-optimal nash equilibrium: {}%\".format(num_six / num_simulations * 100))"
   ]
  }
 ],
 "metadata": {
  "kernelspec": {
   "display_name": "Python 3 (ipykernel)",
   "language": "python",
   "name": "python3"
  },
  "language_info": {
   "codemirror_mode": {
    "name": "ipython",
    "version": 3
   },
   "file_extension": ".py",
   "mimetype": "text/x-python",
   "name": "python",
   "nbconvert_exporter": "python",
   "pygments_lexer": "ipython3",
   "version": "3.10.2"
  }
 },
 "nbformat": 4,
 "nbformat_minor": 5
}
